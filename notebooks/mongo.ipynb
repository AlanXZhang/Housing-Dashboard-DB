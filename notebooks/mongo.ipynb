{
 "cells": [
  {
   "cell_type": "code",
   "execution_count": 1,
   "metadata": {},
   "outputs": [],
   "source": [
    "import json\n",
    "import re\n",
    "from pymongo import MongoClient"
   ]
  },
  {
   "cell_type": "code",
   "execution_count": 2,
   "metadata": {},
   "outputs": [],
   "source": [
    "client = MongoClient('mongodb://localhost:27017/')\n",
    "db = client['sd_business']  # This is separate from a collection. A database contains multiple collections.?"
   ]
  },
  {
   "cell_type": "code",
   "execution_count": null,
   "metadata": {},
   "outputs": [],
   "source": [
    "with open('../data/ca_business.json', 'r') as f:\n",
    "    data = json.load(f)\n",
    "\n",
    "sd_businesses = []\n",
    "for line in tqdm(data):\n",
    "    if type(line) == dict:\n",
    "        lat, lng = line['latitude'], line['longitude']\n",
    "        if lat < 33.363442 and lat > 32.534317 and lng > -117.547484 and lng < -115.974969:\n",
    "            if '_id' in line:\n",
    "                del line['_id']\n",
    "            sd_businesses.append(line)\n",
    "\n",
    "with open('../data/sd_business.json', 'w') as f:\n",
    "    json.dump(sd_businesses, f)"
   ]
  },
  {
   "cell_type": "code",
   "execution_count": 100,
   "metadata": {},
   "outputs": [],
   "source": [
    "with open('../data/sd_business.json', 'r') as file:\n",
    "    data = json.load(file)\n",
    "    business_collection = db['business']\n",
    "    business_collection.insert_many(data)"
   ]
  },
  {
   "cell_type": "code",
   "execution_count": 101,
   "metadata": {},
   "outputs": [
    {
     "name": "stdout",
     "output_type": "stream",
     "text": [
      "Food businesses labeled updated: 8550\n",
      "Non Food businesses labeled updated: 37842\n"
     ]
    }
   ],
   "source": [
    "# Find businesses with cafe or restaurant in the category\n",
    "food_pattern = re.compile(r\"(?i)\\b(?:cafe|restaurant)\\b\")\n",
    "food_filter = {\"category\": food_pattern}\n",
    "\n",
    "# Define the update operation\n",
    "update_food = {\"$set\": {\"food\": True}}\n",
    "\n",
    "# Update documents matching the filter condition\n",
    "result = collection.update_many(food_filter, update_food)\n",
    "\n",
    "# Print the number of documents updated\n",
    "print(\"Food businesses labeled updated:\", result.modified_count)\n",
    "\n",
    "# Define the filter condition for the remaining businesses\n",
    "remaining_filter = {\"food\": {\"$exists\": False}}\n",
    "\n",
    "# Define the update operation to set the remaining businesses as not closed\n",
    "update_remaining = {\"$set\": {\"food\": False}}\n",
    "\n",
    "# Update documents matching the filter condition\n",
    "result = collection.update_many(remaining_filter, update_remaining)\n",
    "\n",
    "# Print the number of documents updated\n",
    "print(\"Non Food businesses labeled updated:\", result.modified_count)"
   ]
  },
  {
   "cell_type": "code",
   "execution_count": 102,
   "metadata": {},
   "outputs": [
    {
     "name": "stdout",
     "output_type": "stream",
     "text": [
      "Businesses marked as closed: 3251\n",
      "Remaining businesses marked as not closed: 43141\n"
     ]
    }
   ],
   "source": [
    "# Find businesses with cafe or restaurant in the category\n",
    "closed_pattern = re.compile(r\"(?i)\\b(?:permanently closed)\\b\")\n",
    "closed_filer = {\"state\": closed_pattern}\n",
    "\n",
    "# Define the update operation\n",
    "update_closed = {\"$set\": {\"closed\": True}}\n",
    "\n",
    "result_closed = collection.update_many(closed_filer, update_closed)\n",
    "print(\"Businesses marked as closed:\", result_closed.modified_count)\n",
    "\n",
    "# Define the filter condition for the remaining businesses\n",
    "remaining_filter = {\"closed\": {\"$exists\": False}}\n",
    "\n",
    "# Define the update operation to set the remaining businesses as not closed\n",
    "update_remaining = {\"$set\": {\"closed\": False}}\n",
    "\n",
    "# Update the remaining businesses to set closed as false\n",
    "result_remaining = collection.update_many(remaining_filter, update_remaining)\n",
    "print(\"Remaining businesses marked as not closed:\", result_remaining.modified_count)"
   ]
  },
  {
   "cell_type": "code",
   "execution_count": 103,
   "metadata": {},
   "outputs": [
    {
     "name": "stdout",
     "output_type": "stream",
     "text": [
      "Grocery/Convenience updated: 887\n",
      "Non Grocery/Convenience updated: 45505\n"
     ]
    }
   ],
   "source": [
    "# Find businesses with grocery in the category\n",
    "grocery_pattern = re.compile(r\"(?i)\\b(?:grocery|food store)\\b\")\n",
    "grocery_filter = {\"category\": grocery_pattern}\n",
    "\n",
    "# Define the update operation\n",
    "update_grocery = {\"$set\": {\"grocery\": True}}\n",
    "\n",
    "# Update documents matching the filter condition\n",
    "result = collection.update_many(grocery_filter, update_grocery)\n",
    "\n",
    "# Print the number of documents updated\n",
    "print(\"Grocery/Convenience updated:\", result.modified_count)\n",
    "\n",
    "remaining_filter = {\"grocery\": {\"$exists\": False}}\n",
    "\n",
    "update_remaining = {\"$set\": {\"grocery\": False}}\n",
    "\n",
    "res = collection.update_many(remaining_filter, update_remaining)\n",
    "\n",
    "# Print the number of documents updated\n",
    "print(\"Non Grocery/Convenience updated:\", res.modified_count)"
   ]
  },
  {
   "cell_type": "code",
   "execution_count": 104,
   "metadata": {},
   "outputs": [
    {
     "name": "stdout",
     "output_type": "stream",
     "text": [
      "Schools updated: 192\n",
      "Non School updated: 46200\n"
     ]
    }
   ],
   "source": [
    "# Find businesses with grocery in the category\n",
    "school_pattern = re.compile(\n",
    "    r\"(?i)^(?:after school|charter school|education|elementary school|middle school|private university|primary school|preschool|university)$\"\n",
    ")\n",
    "school_filter = {\"category\": school_pattern}\n",
    "\n",
    "# Define the update operation\n",
    "update_school = {\"$set\": {\"school\": True}}\n",
    "\n",
    "# Update documents matching the filter condition\n",
    "result = collection.update_many(school_filter, update_school)\n",
    "\n",
    "# Print the number of documents updated\n",
    "print(\"Schools updated:\", result.modified_count)\n",
    "\n",
    "remaining_filter = {\"school\": {\"$exists\": False}}\n",
    "\n",
    "update_remaining = {\"$set\": {\"school\": False}}\n",
    "\n",
    "res = collection.update_many(remaining_filter, update_remaining)\n",
    "\n",
    "# Print the number of documents updated\n",
    "print(\"Non School updated:\", res.modified_count)"
   ]
  },
  {
   "cell_type": "code",
   "execution_count": 105,
   "metadata": {},
   "outputs": [],
   "source": [
    "all_res = collection.find()\n",
    "new_json = []\n",
    "for res in all_res:\n",
    "    del res['_id']\n",
    "    active = not res[\"closed\"]\n",
    "    food = res[\"food\"]\n",
    "    grocery = res[\"grocery\"]\n",
    "    school = res['school']\n",
    "    if active:\n",
    "        new_json.append(res)\n",
    "\n",
    "with open('active_business.json', 'w') as f:\n",
    "    json.dump(new_json, f)"
   ]
  },
  {
   "cell_type": "code",
   "execution_count": 127,
   "metadata": {},
   "outputs": [],
   "source": [
    "housing_collection.drop()"
   ]
  },
  {
   "cell_type": "code",
   "execution_count": 128,
   "metadata": {},
   "outputs": [],
   "source": [
    "housing_collection = db['apartment']"
   ]
  },
  {
   "cell_type": "code",
   "execution_count": 129,
   "metadata": {},
   "outputs": [],
   "source": [
    "with open('../data/housing/processed/craigslist.json', 'r') as f:\n",
    "    data = json.load(f)\n",
    "    housing_collection.insert_many(data)"
   ]
  },
  {
   "cell_type": "code",
   "execution_count": 130,
   "metadata": {},
   "outputs": [],
   "source": [
    "with open('../data/housing/processed/zillow.json', 'r') as f:\n",
    "    data = json.load(f)\n",
    "    housing_collection.insert_many(data)"
   ]
  },
  {
   "cell_type": "code",
   "execution_count": 131,
   "metadata": {},
   "outputs": [],
   "source": [
    "with open('../data/housing/processed/garden.json', 'r') as f:\n",
    "    data = json.load(f)\n",
    "    housing_collection.insert_many(data)"
   ]
  },
  {
   "cell_type": "code",
   "execution_count": 132,
   "metadata": {},
   "outputs": [],
   "source": [
    "with open('../data/housing/processed/apartment.json', 'r') as f:\n",
    "    data = json.load(f)\n",
    "    housing_collection.insert_many(data)"
   ]
  },
  {
   "cell_type": "code",
   "execution_count": 133,
   "metadata": {},
   "outputs": [
    {
     "name": "stdout",
     "output_type": "stream",
     "text": [
      "Key: beds, Count: 3973\n",
      "Key: description, Count: 1195\n",
      "Key: baths, Count: 3973\n",
      "Key: _id, Count: 3973\n",
      "Key: Amenities, Count: 560\n",
      "Key: floorplan, Count: 560\n",
      "Key: air conditioning, Count: 2621\n",
      "Key: address, Count: 1352\n",
      "Key: smoking, Count: 2621\n",
      "Key: parking, Count: 2621\n",
      "Key: lon, Count: 2778\n",
      "Key: phone, Count: 635\n",
      "Key: EV charging, Count: 2621\n",
      "Key: Parking, Count: 560\n",
      "Key: street, Count: 157\n",
      "Key: appliances, Count: 635\n",
      "Key: post_id, Count: 2621\n",
      "Key: rentPeriod, Count: 2621\n",
      "Key: wheelchair accessible, Count: 2621\n",
      "Key: amenities, Count: 635\n",
      "Key: state, Count: 157\n",
      "Key: Images, Count: 560\n",
      "Key: laundry, Count: 2621\n",
      "Key: lat, Count: 2778\n",
      "Key: Contact, Count: 560\n",
      "Key: sqft, Count: 3816\n",
      "Key: price_range, Count: 560\n",
      "Key: pets, Count: 2621\n",
      "Key: name, Count: 1195\n",
      "Key: furnished, Count: 2621\n",
      "Key: city, Count: 157\n",
      "Key: Pet Policy, Count: 560\n",
      "Key: One Time Fees, Count: 560\n",
      "Key: zipcode, Count: 157\n",
      "Key: Education, Count: 560\n",
      "Key: floor_plan, Count: 635\n",
      "Key: Transportation, Count: 560\n",
      "Key: houseType, Count: 2621\n",
      "Key: price, Count: 3973\n"
     ]
    }
   ],
   "source": [
    "# Perform the aggregation pipeline\n",
    "pipeline = [\n",
    "    {\"$group\": {\"_id\": None, \"keys\": {\"$addToSet\": {\"$objectToArray\": \"$$ROOT\"}}}},\n",
    "    {\"$project\": {\"_id\": 0, \"keys\": 1}},\n",
    "    {\"$unwind\": \"$keys\"},\n",
    "    {\"$unwind\": \"$keys\"},\n",
    "    {\"$group\": {\"_id\": \"$keys.k\", \"count\": {\"$sum\": 1}}},\n",
    "    {\"$project\": {\"_id\": 0, \"key\": \"$_id\", \"count\": 1}},\n",
    "]\n",
    "\n",
    "result = list(housing_collection.aggregate(pipeline))\n",
    "\n",
    "# Print the unique keys and their counts\n",
    "for item in result:\n",
    "    print(f\"Key: {item['key']}, Count: {item['count']}\")"
   ]
  },
  {
   "cell_type": "code",
   "execution_count": 30,
   "metadata": {},
   "outputs": [],
   "source": [
    "with open('../data/bus_stops.json', 'r') as f:\n",
    "    data = json.load(f)\n",
    "    bus_collection = db['bus_stops']\n",
    "    bus_collection.insert_many(data)"
   ]
  },
  {
   "cell_type": "code",
   "execution_count": 106,
   "metadata": {},
   "outputs": [
    {
     "name": "stdout",
     "output_type": "stream",
     "text": [
      "Total number of bus stops: 6244\n"
     ]
    }
   ],
   "source": [
    "bus_ct = bus_collection.count_documents({})\n",
    "print(f\"Total number of bus stops: {bus_ct}\")"
   ]
  },
  {
   "cell_type": "code",
   "execution_count": 107,
   "metadata": {},
   "outputs": [
    {
     "name": "stdout",
     "output_type": "stream",
     "text": [
      "Total number of businesses: 46392\n"
     ]
    }
   ],
   "source": [
    "business_ct = business_collection.count_documents({})\n",
    "print(f\"Total number of businesses: {business_ct}\")\n"
   ]
  },
  {
   "cell_type": "code",
   "execution_count": 134,
   "metadata": {},
   "outputs": [
    {
     "name": "stdout",
     "output_type": "stream",
     "text": [
      "Total number of house listings: 3973\n"
     ]
    }
   ],
   "source": [
    "house_ct = housing_collection.count_documents({})\n",
    "print(f\"Total number of house listings: {house_ct}\")\n"
   ]
  },
  {
   "cell_type": "code",
   "execution_count": 135,
   "metadata": {},
   "outputs": [],
   "source": [
    "housings = list(housing_collection.find())\n",
    "for h in housings:\n",
    "    del h['_id']\n",
    "\n",
    "# Specify the output file path\n",
    "output_file = '../data/housing/housing.json'\n",
    "\n",
    "# Export documents to JSON file\n",
    "with open(output_file, 'w') as file:\n",
    "    json.dump(housings, file)"
   ]
  },
  {
   "cell_type": "code",
   "execution_count": 85,
   "metadata": {},
   "outputs": [],
   "source": [
    "# Perform the aggregation pipeline\n",
    "pipeline = [\n",
    "    {\"$group\": {\"_id\": None, \"prices\": {\"$push\": \"$price\"}}},\n",
    "    {\"$project\": {\"_id\": 0, \"prices\": 1}},\n",
    "    {\"$unwind\": \"$prices\"},\n",
    "    {\"$group\": {\"_id\": \"$prices\", \"count\": {\"$sum\": 1}}},\n",
    "    {\"$sort\": {\"_id\": 1}}\n",
    "]\n",
    "\n",
    "result = list(housing_collection.aggregate(pipeline))\n",
    "\n",
    "prices = [item['_id'] for item in result if item['_id'] is not None]\n",
    "prices = [\n",
    "    int(re.match(r\"\\$(\\d[\\d,]*)\", price).group(1).replace(',', '')) \n",
    "    if isinstance(price, str) else int(price) for price in prices\n",
    "]"
   ]
  },
  {
   "cell_type": "code",
   "execution_count": 75,
   "metadata": {},
   "outputs": [],
   "source": [
    "prices = np.array(result)\n",
    "mean = np.mean(prices)\n",
    "median = np.median(prices)\n",
    "std = np.std(prices)\n",
    "first_quartile = np.percentile(prices, 25)\n",
    "third_quartile = np.percentile(prices, 75)\n",
    "iqr = third_quartile - first_quartile\n",
    "low_threshold = first_quartile - 1.5 * iqr\n",
    "high_threshold = third_quartile + 1.5 * iqr"
   ]
  },
  {
   "cell_type": "code",
   "execution_count": 78,
   "metadata": {},
   "outputs": [],
   "source": [
    "trimmed_prices = prices[(prices > low_threshold) & (prices < high_threshold)]"
   ]
  },
  {
   "cell_type": "code",
   "execution_count": 82,
   "metadata": {},
   "outputs": [
    {
     "data": {
      "text/plain": [
       "<matplotlib.lines.Line2D at 0x124c06c50>"
      ]
     },
     "execution_count": 82,
     "metadata": {},
     "output_type": "execute_result"
    },
    {
     "data": {
      "image/png": "[encoded data removed]",
      "text/plain": [
       "<Figure size 640x480 with 1 Axes>"
      ]
     },
     "metadata": {},
     "output_type": "display_data"
    }
   ],
   "source": [
    "plt.hist(trimmed_prices, bins=20)\n",
    "plt.axvline(trimmed_prices[np.random.randint(0, len(trimmed_prices))], color='red', label='Mean')"
   ]
  },
  {
   "cell_type": "code",
   "execution_count": 84,
   "metadata": {},
   "outputs": [
    {
     "data": {
      "text/plain": [
       "<Figure size 640x480 with 0 Axes>"
      ]
     },
     "metadata": {},
     "output_type": "display_data"
    }
   ],
   "source": [
    "plt.savefig('../figs/price_distribution.png')"
   ]
  },
  {
   "cell_type": "code",
   "execution_count": null,
   "metadata": {},
   "outputs": [],
   "source": []
  }
 ],
 "metadata": {
  "kernelspec": {
   "display_name": "base",
   "language": "python",
   "name": "python3"
  },
  "language_info": {
   "codemirror_mode": {
    "name": "ipython",
    "version": 3
   },
   "file_extension": ".py",
   "mimetype": "text/x-python",
   "name": "python",
   "nbconvert_exporter": "python",
   "pygments_lexer": "ipython3",
   "version": "3.10.9"
  },
  "orig_nbformat": 4
 },
 "nbformat": 4,
 "nbformat_minor": 2
}
