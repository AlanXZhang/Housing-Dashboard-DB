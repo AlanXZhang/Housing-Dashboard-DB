{
 "cells": [
  {
   "cell_type": "code",
   "execution_count": 113,
   "metadata": {},
   "outputs": [],
   "source": [
    "import json\n",
    "from tqdm import tqdm\n",
    "from neo4j import GraphDatabase\n",
    "from pymongo import MongoClient\n",
    "import numpy as np\n",
    "import pandas as pd"
   ]
  },
  {
   "cell_type": "code",
   "execution_count": null,
   "metadata": {},
   "outputs": [],
   "source": [
    "uri = \"bolt://localhost:7999\"\n",
    "username = \"neo4j\"\n",
    "password = \"password\"\n",
    "\n",
    "def create_neo4j_session(uri, username, password):\n",
    "    try:\n",
    "        driver = GraphDatabase.driver(uri, auth=(username, password))\n",
    "        session = driver.session()\n",
    "        return session\n",
    "    except Exception as e:\n",
    "        print(f\"Failed to create Neo4j session: {e}\")\n",
    "        return None\n"
   ]
  },
  {
   "attachments": {},
   "cell_type": "markdown",
   "metadata": {},
   "source": [
    "## Deleting pre-existing nodes"
   ]
  },
  {
   "cell_type": "code",
   "execution_count": null,
   "metadata": {},
   "outputs": [],
   "source": [
    "session = create_neo4j_session(uri, username, password)\n",
    "\n",
    "# Execute a sample query\n",
    "query = \"MATCH (n) DETACH DELETE n\"\n",
    "result = session.run(query)\n",
    "\n",
    "# Close the session and driver\n",
    "session.close()"
   ]
  },
  {
   "attachments": {},
   "cell_type": "markdown",
   "metadata": {},
   "source": [
    "## Import Business Nodes"
   ]
  },
  {
   "cell_type": "code",
   "execution_count": null,
   "metadata": {},
   "outputs": [],
   "source": [
    "def run_query(query):\n",
    "    session = create_neo4j_session(uri, username, password)\n",
    "    result = list(session.run(query))\n",
    "    session.close()\n",
    "    return result"
   ]
  },
  {
   "cell_type": "code",
   "execution_count": null,
   "metadata": {},
   "outputs": [],
   "source": [
    "load_business_query = \"\"\"CALL apoc.load.json(\"file:///active_business.json\")\n",
    "YIELD value\n",
    "MERGE (b:Business {name: value.gmap_id})\n",
    "SET b.name = value.name\n",
    "SET b.latitude = value.latitude\n",
    "SET b.longitude = value.longitude\n",
    "WITH b, value\n",
    "UNWIND value.category AS cat\n",
    "MERGE (c:Category {name: toLower(cat)})\n",
    "MERGE (b)-[:IS_IN]->(c);\n",
    "\"\"\""
   ]
  },
  {
   "cell_type": "code",
   "execution_count": null,
   "metadata": {},
   "outputs": [],
   "source": [
    "spatial_query = \"\"\"\n",
    "CALL spatial.addPointLayer('geom');\n",
    "\"\"\""
   ]
  },
  {
   "cell_type": "code",
   "execution_count": null,
   "metadata": {},
   "outputs": [],
   "source": [
    "# Create Business nodes and Category nodes\n",
    "run_query(load_business_query)\n",
    "\n",
    "# Create Spatial layer for indexing\n",
    "run_query(spatial_query)\n",
    "\n",
    "# Add Businesses to spatial index\n",
    "run_query(\"\"\"MERGE (n:Business) with n CALL spatial.addNode('geom', n) YIELD node RETURN node;\"\"\")\n"
   ]
  },
  {
   "attachments": {},
   "cell_type": "markdown",
   "metadata": {},
   "source": [
    "## Import Bus Stops"
   ]
  },
  {
   "cell_type": "code",
   "execution_count": 29,
   "metadata": {},
   "outputs": [],
   "source": [
    "bus_import = \"\"\"USING PERIODIC COMMIT 500 LOAD CSV WITH HEADERS FROM 'file:///SanDiegoStops.csv' AS line\n",
    "MERGE (n:Stop {oid: line.OBJECTID})\n",
    "set n.latitude = toFloat(line.stop_lat)\n",
    "set n.longitude = toFloat(line.stop_lon)\n",
    "set n.name = line.stop_name\n",
    "set n.sid = line.stop_UID\n",
    "\"\"\""
   ]
  },
  {
   "cell_type": "code",
   "execution_count": 32,
   "metadata": {},
   "outputs": [],
   "source": [
    "bus_line_import = \"\"\"USING PERIODIC COMMIT 500 LOAD CSV WITH HEADERS FROM 'file:///StopsToRoutes.csv' AS line\n",
    "MATCH (n:Stop {sid:line.stop_UID})\n",
    "MERGE (l:Route {rid:line.route_id})\n",
    "MERGE (n)-[:STOP_IN]->(l)\"\"\""
   ]
  },
  {
   "cell_type": "code",
   "execution_count": 33,
   "metadata": {},
   "outputs": [
    {
     "data": {
      "text/plain": [
       "[]"
      ]
     },
     "execution_count": 33,
     "metadata": {},
     "output_type": "execute_result"
    }
   ],
   "source": [
    "# import transit stops\n",
    "run_query(bus_import)\n",
    "# Add stops to spatial index\n",
    "run_query(\"\"\"MERGE (n:Stop) with n CALL spatial.addNode('geom', n) YIELD node RETURN node;\"\"\")\n",
    "# Add transit route relationships to stops\n",
    "run_query(bus_line_import)\n"
   ]
  },
  {
   "attachments": {},
   "cell_type": "markdown",
   "metadata": {},
   "source": [
    "# Queries"
   ]
  },
  {
   "cell_type": "code",
   "execution_count": 117,
   "metadata": {},
   "outputs": [],
   "source": [
    "def get_business_radius(lat, long, dist_mi, category=None):\n",
    "    query = '''call spatial.withinDistance('geom', {latitude:''' +\\\n",
    "        str(lat) + ', longitude:' +\\\n",
    "        str(long) + '''}, ''' + str(dist_mi*1.61) +\\\n",
    "        ''') yield node as n, distance as d with n, d match(n:Business)'''\n",
    "    if category is None:\n",
    "        query += 'return n, d'\n",
    "    else:\n",
    "        query += '''-[:IS_IN]-(c:Category) where c.name contains ''' \\\n",
    "            + repr(category) + ''' return distinct n, c, d'''\n",
    "    result = run_query(query)\n",
    "    return result"
   ]
  },
  {
   "cell_type": "code",
   "execution_count": 105,
   "metadata": {},
   "outputs": [],
   "source": [
    "def get_bus_stops(lat, long, dist_mi):\n",
    "    query = '''call spatial.withinDistance('geom', {latitude:''' + str(lat) + ', longitude:' + str(long) + '''}, ''' + str(dist_mi*1.61) + ''') yield node as n, distance as d\n",
    "    with n, d match (n:Stop)-[:STOP_IN]-(r) return r, n, d limit 10'''\n",
    "    result = run_query(query)\n",
    "    return result"
   ]
  },
  {
   "cell_type": "code",
   "execution_count": 66,
   "metadata": {},
   "outputs": [],
   "source": [
    "def get_businesses_on_route(route_id, dist_mi):\n",
    "    query = \"\"\"match (n:Stop)-[:STOP_IN]-(r:Route) where r.rid = '\"\"\" + str(route_id)+ \"\"\"' \n",
    "    with n call spatial.withinDistance('geom', {lat:n.latitude, lon:n.longitude}, \"\"\" + str(dist_mi*1.61) +\"\"\") yield node as b with b match (b:Business) return distinct b\"\"\"\n",
    "    result = run_query(query)\n",
    "    return result"
   ]
  },
  {
   "cell_type": "code",
   "execution_count": 133,
   "metadata": {},
   "outputs": [],
   "source": [
    "def get_poi_bbox(bl_lat, bl_lon, tr_lat, tr_lon, poi='Both'):\n",
    "    \"\"\"\n",
    "    poi can be Both, Business, Stops for the specified nodes\n",
    "    \"\"\"\n",
    "    query = \"\"\"call spatial.bbox('geom', {lat:\"\"\" + str(bl_lat) + ', lon: ' + str(bl_lon) + '}, {lat:' + str(tr_lat) + ', lon: ' + str(tr_lon) +\"\"\"}) yield node as n\n",
    "    \"\"\"\n",
    "    if poi not in ['Both', 'Stops', 'Business']:\n",
    "        print('Not Valid Point of Interest Type')\n",
    "        return None\n",
    "    if poi == 'Both':\n",
    "        query += ' return distinct n'\n",
    "    elif poi == 'Stops':\n",
    "        query += ' match (n:Stops) return distinct n'\n",
    "    elif poi == 'Business':\n",
    "        query += ' match (n:Business) return distinct n'\n",
    "    result = run_query(query)\n",
    "    return result"
   ]
  },
  {
   "cell_type": "code",
   "execution_count": 130,
   "metadata": {},
   "outputs": [
    {
     "name": "stdout",
     "output_type": "stream",
     "text": [
      "Vons, Miles: 0.198\n",
      "Bristol Farms, Miles: 0.416\n",
      "Costa Verde Center, Miles: 0.426\n",
      "California Keto, Miles: 0.491\n",
      "Whole Foods Market, Miles: 0.578\n",
      "Ralphs, Miles: 0.596\n",
      "Trader Joe's, Miles: 0.614\n",
      "Tender Greens - Patio Open, Miles: 0.771\n",
      "News Stand, Miles: 0.777\n",
      "Williams-Sonoma, Miles: 0.878\n"
     ]
    }
   ],
   "source": [
    "result = get_business_radius(32.865028, -117.221756, 1)\n",
    "for r in result:\n",
    "    print(dict(dict(r)['n'])['name'] + ', Miles: ' + str(np.round(dict(r)['d']/1.6, 3)))"
   ]
  },
  {
   "cell_type": "code",
   "execution_count": 118,
   "metadata": {},
   "outputs": [
    {
     "name": "stdout",
     "output_type": "stream",
     "text": [
      "Name: Costa Verde Center, Category: restaurant, Miles: 0.426\n",
      "Name: Tender Greens - Patio Open, Category: american restaurant, Miles: 0.771\n",
      "Name: Tender Greens - Patio Open, Category: restaurant, Miles: 0.771\n"
     ]
    }
   ],
   "source": [
    "result = get_business_radius(32.865028, -117.221756, 1, 'restaurant')\n",
    "for r in result:\n",
    "    print('Name: ' + dict(dict(r)['n'])['name'] + ', Category: '+ dict(dict(r)['c'])['name'] + ', Miles: ' + str(np.round(dict(r)['d']/1.6, 3)))"
   ]
  },
  {
   "cell_type": "code",
   "execution_count": 116,
   "metadata": {},
   "outputs": [
    {
     "name": "stdout",
     "output_type": "stream",
     "text": [
      "Route Id: 202, Stop: Lebon Dr & Palmilla Dr, Miles: 0.191\n",
      "Route Id: 201, Stop: Palmilla Dr & Lebon Dr, Miles: 0.204\n",
      "Route Id: 202, Stop: Regents Rd & Nobel Dr, Miles: 0.207\n",
      "Route Id: 201, Stop: Nobel Dr & Regents Rd, Miles: 0.239\n",
      "Route Id: 30, Stop: Nobel Dr & Regents Rd, Miles: 0.239\n",
      "Route Id: 201, Stop: Regents Rd & Arriba St, Miles: 0.239\n",
      "Route Id: 30, Stop: Nobel Dr & Regents Rd, Miles: 0.241\n",
      "Route Id: 202, Stop: Arriba St & Regents Rd, Miles: 0.263\n",
      "Route Id: 201, Stop: Nobel Dr & Lebon Dr, Miles: 0.303\n",
      "Route Id: 30, Stop: Nobel Dr & Lebon Dr, Miles: 0.303\n"
     ]
    }
   ],
   "source": [
    "result = get_bus_stops(32.865028, -117.221756,0.5)\n",
    "for r in result:\n",
    "    print('Route Id: ' + dict(dict(r)['r'])['rid'] + ', Stop: ' + dict(dict(r)['n'])['name'] + ', Miles: ' + str(np.round(dict(r)['d']/1.6, 3)))"
   ]
  },
  {
   "cell_type": "code",
   "execution_count": 70,
   "metadata": {},
   "outputs": [
    {
     "name": "stdout",
     "output_type": "stream",
     "text": [
      "Vons\n",
      "Costa Verde Center\n",
      "California Keto\n",
      "Bristol Farms\n",
      "Tender Greens - Patio Open\n",
      "News Stand\n",
      "Whole Foods Market\n",
      "Ralphs\n",
      "Trader Joe's\n",
      "Target\n"
     ]
    }
   ],
   "source": [
    "result = get_businesses_on_route(202, 0.25)\n",
    "for r in result:\n",
    "    print(dict(dict(r)['b'])['name'])"
   ]
  },
  {
   "cell_type": "code",
   "execution_count": 134,
   "metadata": {},
   "outputs": [
    {
     "name": "stdout",
     "output_type": "stream",
     "text": [
      "UTC Transit Center\n",
      "UTC Transit Center\n",
      "UTC Transit Center\n",
      "Genesee Av & Centurion Sq\n",
      "Governor Dr & Regents Rd\n",
      "Judicial Dr & Research Pl\n",
      "Vons\n",
      "Genesee Av & Decoro St\n",
      "UTC Transit Center\n",
      "UTC Station\n"
     ]
    }
   ],
   "source": [
    "bbox_5_805_52 = (32.849598, -117.248886, 32.894520, -117.195918)\n",
    "result = get_poi_bbox(*bbox_5_805_52)\n",
    "for i, r in enumerate(result):\n",
    "    if i == 10:\n",
    "        break\n",
    "    print(dict(dict(r)['n'])['name'])"
   ]
  }
 ],
 "metadata": {
  "kernelspec": {
   "display_name": "Python 3 (ipykernel)",
   "language": "python",
   "name": "python3"
  },
  "language_info": {
   "codemirror_mode": {
    "name": "ipython",
    "version": 3
   },
   "file_extension": ".py",
   "mimetype": "text/x-python",
   "name": "python",
   "nbconvert_exporter": "python",
   "pygments_lexer": "ipython3",
   "version": "3.9.16"
  }
 },
 "nbformat": 4,
 "nbformat_minor": 2
}
